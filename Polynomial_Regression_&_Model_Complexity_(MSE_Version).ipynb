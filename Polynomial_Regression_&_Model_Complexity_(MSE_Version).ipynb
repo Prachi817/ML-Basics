{
  "cells": [
    {
      "cell_type": "markdown",
      "id": "a24353b4",
      "metadata": {
        "id": "a24353b4"
      },
      "source": [
        "# Lab 09 – Polynomial Regression & Model Complexity (MSE Version)\n",
        "CSCI‑4750/5750: Introduction to Machine Learning – Summer 2025\n",
        "Tae‑Hyuk (Ted) Ahn"
      ]
    },
    {
      "cell_type": "markdown",
      "id": "39407e50",
      "metadata": {
        "id": "39407e50"
      },
      "source": [
        "## Learning Goals\n",
        "- Load and inspect the California Housing dataset.\n",
        "- Fit baseline *LinearRegression* and *SGDRegressor* models.\n",
        "- Generate *PolynomialFeatures* and explore bias–variance trade‑off.\n",
        "- Evaluate models with **Mean Squared Error (MSE)** on train/test sets and via cross‑validation.\n",
        "- Plot model complexity vs. MSE.\n",
        "- Reflect on how model capacity affects over‑/under‑fitting."
      ]
    },
    {
      "cell_type": "markdown",
      "id": "baad1c4d",
      "metadata": {
        "id": "baad1c4d"
      },
      "source": [
        "## Setup\n",
        "Run the next cell to import libraries, fetch the dataset and create train/test splits."
      ]
    },
    {
      "cell_type": "code",
      "execution_count": 1,
      "id": "ea01009e",
      "metadata": {
        "colab": {
          "base_uri": "https://localhost:8080/"
        },
        "id": "ea01009e",
        "outputId": "67e657ba-9216-48e3-8fb4-47c25860ec4d"
      },
      "outputs": [
        {
          "output_type": "stream",
          "name": "stdout",
          "text": [
            "=== First few rows of the dataset ===\n",
            "   MedInc  HouseAge  AveRooms  AveBedrms  Population  AveOccup  Latitude  \\\n",
            "0  8.3252      41.0  6.984127   1.023810       322.0  2.555556     37.88   \n",
            "1  8.3014      21.0  6.238137   0.971880      2401.0  2.109842     37.86   \n",
            "2  7.2574      52.0  8.288136   1.073446       496.0  2.802260     37.85   \n",
            "3  5.6431      52.0  5.817352   1.073059       558.0  2.547945     37.85   \n",
            "4  3.8462      52.0  6.281853   1.081081       565.0  2.181467     37.85   \n",
            "\n",
            "   Longitude  \n",
            "0    -122.23  \n",
            "1    -122.22  \n",
            "2    -122.24  \n",
            "3    -122.25  \n",
            "4    -122.25  \n",
            "\n",
            "=== Summary statistics of features ===\n",
            "             MedInc      HouseAge      AveRooms     AveBedrms    Population  \\\n",
            "count  20640.000000  20640.000000  20640.000000  20640.000000  20640.000000   \n",
            "mean       3.870671     28.639486      5.429000      1.096675   1425.476744   \n",
            "std        1.899822     12.585558      2.474173      0.473911   1132.462122   \n",
            "min        0.499900      1.000000      0.846154      0.333333      3.000000   \n",
            "25%        2.563400     18.000000      4.440716      1.006079    787.000000   \n",
            "50%        3.534800     29.000000      5.229129      1.048780   1166.000000   \n",
            "75%        4.743250     37.000000      6.052381      1.099526   1725.000000   \n",
            "max       15.000100     52.000000    141.909091     34.066667  35682.000000   \n",
            "\n",
            "           AveOccup      Latitude     Longitude  \n",
            "count  20640.000000  20640.000000  20640.000000  \n",
            "mean       3.070655     35.631861   -119.569704  \n",
            "std       10.386050      2.135952      2.003532  \n",
            "min        0.692308     32.540000   -124.350000  \n",
            "25%        2.429741     33.930000   -121.800000  \n",
            "50%        2.818116     34.260000   -118.490000  \n",
            "75%        3.282261     37.710000   -118.010000  \n",
            "max     1243.333333     41.950000   -114.310000  \n",
            "\n",
            "=== Target (y) – first few values ===\n",
            "0    4.526\n",
            "1    3.585\n",
            "2    3.521\n",
            "3    3.413\n",
            "4    3.422\n",
            "Name: MedHouseVal, dtype: float64\n",
            "\n",
            "=== Target (y) – summary statistics ===\n",
            "count    20640.000000\n",
            "mean         2.068558\n",
            "std          1.153956\n",
            "min          0.149990\n",
            "25%          1.196000\n",
            "50%          1.797000\n",
            "75%          2.647250\n",
            "max          5.000010\n",
            "Name: MedHouseVal, dtype: float64\n",
            "\n",
            "Train shape: (16512, 8), Test shape: (4128, 8)\n"
          ]
        }
      ],
      "source": [
        "from sklearn.datasets import fetch_california_housing\n",
        "from sklearn.model_selection import train_test_split\n",
        "from sklearn.preprocessing import StandardScaler\n",
        "import pandas as pd\n",
        "import numpy as np\n",
        "\n",
        "# Load the California housing dataset\n",
        "data = fetch_california_housing(as_frame=True)\n",
        "X_full = data.data\n",
        "y_full = data.target\n",
        "\n",
        "# TODO: Inspect the data (head, describe, etc.)\n",
        "print(\"=== First few rows of the dataset ===\")\n",
        "print(X_full.head())\n",
        "\n",
        "print(\"\\n=== Summary statistics of features ===\")\n",
        "print(X_full.describe())\n",
        "\n",
        "print(\"\\n=== Target (y) – first few values ===\")\n",
        "print(y_full.head())\n",
        "\n",
        "print(\"\\n=== Target (y) – summary statistics ===\")\n",
        "print(y_full.describe())\n",
        "\n",
        "# Split the dataset into training and test sets\n",
        "X_train, X_test, y_train, y_test = train_test_split(\n",
        "    X_full, y_full, test_size=0.2, random_state=42)\n",
        "\n",
        "# Standardize the features\n",
        "scaler = StandardScaler()\n",
        "X_train = scaler.fit_transform(X_train)\n",
        "X_test  = scaler.transform(X_test)\n",
        "\n",
        "# Print dataset shapes\n",
        "print(f'\\nTrain shape: {X_train.shape}, Test shape: {X_test.shape}')\n"
      ]
    },
    {
      "cell_type": "markdown",
      "id": "5bfb78da",
      "metadata": {
        "id": "5bfb78da"
      },
      "source": [
        "### 1  Baseline Linear Regression (Normal Equation)\n",
        "Complete the next cell to fit **LinearRegression** and compute MSE."
      ]
    },
    {
      "cell_type": "code",
      "execution_count": 2,
      "id": "5c759057",
      "metadata": {
        "colab": {
          "base_uri": "https://localhost:8080/"
        },
        "id": "5c759057",
        "outputId": "d1b879b9-6cc6-488e-d24e-ae727ebb83de"
      },
      "outputs": [
        {
          "output_type": "stream",
          "name": "stdout",
          "text": [
            "LinearRegression → Train MSE: 0.5179, Test MSE: 0.5559\n"
          ]
        }
      ],
      "source": [
        "from sklearn.linear_model import LinearRegression\n",
        "from sklearn.metrics import mean_squared_error\n",
        "\n",
        "lin_reg = LinearRegression()\n",
        "lin_reg.fit(X_train, y_train)\n",
        "\n",
        "y_pred_train = lin_reg.predict(X_train)\n",
        "y_pred_test  = lin_reg.predict(X_test)\n",
        "\n",
        "train_mse = mean_squared_error(y_train, y_pred_train)\n",
        "test_mse  = mean_squared_error(y_test,  y_pred_test)\n",
        "\n",
        "print(f'LinearRegression → Train MSE: {train_mse:.4f}, Test MSE: {test_mse:.4f}')"
      ]
    },
    {
      "cell_type": "markdown",
      "id": "1d0ef3cf",
      "metadata": {
        "id": "1d0ef3cf"
      },
      "source": [
        "### 2  Gradient Descent with SGDRegressor"
      ]
    },
    {
      "cell_type": "code",
      "execution_count": 3,
      "id": "cefd2888",
      "metadata": {
        "colab": {
          "base_uri": "https://localhost:8080/"
        },
        "id": "cefd2888",
        "outputId": "65b69339-f641-4182-b96f-aa10c628f650"
      },
      "outputs": [
        {
          "output_type": "stream",
          "name": "stdout",
          "text": [
            "SGDRegressor → Train MSE: 0.5286, Test MSE: 0.5506\n"
          ]
        }
      ],
      "source": [
        "from sklearn.linear_model import SGDRegressor\n",
        "\n",
        "sgd_reg = SGDRegressor(loss='squared_error',\n",
        "                       penalty=None,\n",
        "                       learning_rate='invscaling',\n",
        "                       eta0=0.01,\n",
        "                       max_iter=1000,\n",
        "                       random_state=42)\n",
        "\n",
        "sgd_reg.fit(X_train, y_train)\n",
        "\n",
        "y_pred_train_sgd = sgd_reg.predict(X_train)\n",
        "y_pred_test_sgd  = sgd_reg.predict(X_test)\n",
        "\n",
        "train_mse_sgd = mean_squared_error(y_train, y_pred_train_sgd)\n",
        "test_mse_sgd  = mean_squared_error(y_test,  y_pred_test_sgd)\n",
        "\n",
        "print(f'SGDRegressor → Train MSE: {train_mse_sgd:.4f}, Test MSE: {test_mse_sgd:.4f}')"
      ]
    },
    {
      "cell_type": "markdown",
      "id": "dd9ad567",
      "metadata": {
        "id": "dd9ad567"
      },
      "source": [
        "### 3  Polynomial Regression & Cross‑Validation"
      ]
    },
    {
      "cell_type": "code",
      "execution_count": 4,
      "id": "3b3b8cd3",
      "metadata": {
        "colab": {
          "base_uri": "https://localhost:8080/"
        },
        "id": "3b3b8cd3",
        "outputId": "6abbd705-67a7-47e0-b3b7-97f2adda58bd"
      },
      "outputs": [
        {
          "output_type": "stream",
          "name": "stdout",
          "text": [
            "Degree 1: CV MSE mean=0.5193 ± 0.0149\n",
            "Degree 2: CV MSE mean=10.4483 ± 18.6011\n",
            "Degree 3: CV MSE mean=336430.6279 ± 654778.3712\n",
            "Degree 5: CV MSE mean=3215045200602851.0000 ± 6429939483226288.0000\n",
            "Degree 7: CV MSE mean=190196099748176640.0000 ± 380392198286840128.0000\n"
          ]
        }
      ],
      "source": [
        "from sklearn.preprocessing import PolynomialFeatures\n",
        "from sklearn.pipeline import Pipeline\n",
        "from sklearn.model_selection import cross_val_score\n",
        "\n",
        "degrees = [1, 2, 3, 5, 7]\n",
        "cv_results = {}\n",
        "\n",
        "for d in degrees:\n",
        "    model = Pipeline([\n",
        "        ('poly', PolynomialFeatures(degree=d, include_bias=False)),\n",
        "        ('linreg', LinearRegression())\n",
        "    ])\n",
        "    # Use negative MSE so higher (less negative) is better; convert later\n",
        "    scores = cross_val_score(model, X_train, y_train,\n",
        "                             cv=5,\n",
        "                             scoring='neg_mean_squared_error')\n",
        "    mse_scores = -scores  # make positive\n",
        "    cv_results[d] = mse_scores\n",
        "    print(f'Degree {d}: CV MSE mean={mse_scores.mean():.4f} ± {mse_scores.std():.4f}')"
      ]
    },
    {
      "cell_type": "markdown",
      "id": "93efac6f",
      "metadata": {
        "id": "93efac6f"
      },
      "source": [
        "### 4  Plot Model Complexity vs. CV MSE"
      ]
    },
    {
      "cell_type": "code",
      "execution_count": 5,
      "id": "1115566a",
      "metadata": {
        "colab": {
          "base_uri": "https://localhost:8080/",
          "height": 472
        },
        "id": "1115566a",
        "outputId": "13ba6253-cfa1-4639-fd6c-b5dc6d47f67b"
      },
      "outputs": [
        {
          "output_type": "display_data",
          "data": {
            "text/plain": [
              "<Figure size 640x480 with 1 Axes>"
            ],
            "image/png": "[encoded data removed]"
          },
          "metadata": {}
        }
      ],
      "source": [
        "import matplotlib.pyplot as plt\n",
        "deg = np.array(list(cv_results.keys()))\n",
        "means = np.array([cv_results[d].mean() for d in deg])\n",
        "stds  = np.array([cv_results[d].std() for d in deg])\n",
        "\n",
        "plt.figure()\n",
        "plt.errorbar(deg, means, yerr=stds, fmt='o--')\n",
        "plt.xlabel('Polynomial Degree')\n",
        "plt.ylabel('CV MSE (lower is better)')\n",
        "plt.title('Model Complexity vs. MSE')\n",
        "plt.grid(True)\n",
        "plt.show()"
      ]
    },
    {
      "cell_type": "markdown",
      "id": "85f5bdce",
      "metadata": {
        "id": "85f5bdce"
      },
      "source": [
        "## Reflection\n",
        "- Which polynomial degree achieved the lowest CV MSE?\n",
        "- Compare the closed‑form solution and SGD in terms of speed, scalability, and numerical stability.\n",
        "- Explain how increasing degree changed bias and variance."
      ]
    },
    {
      "cell_type": "markdown",
      "id": "1133f206",
      "metadata": {
        "id": "1133f206"
      },
      "source": [
        "<!-- TODO: Write your answers here -->"
      ]
    }
  ],
  "metadata": {
    "kernelspec": {
      "display_name": "Python 3",
      "name": "python3"
    },
    "colab": {
      "provenance": []
    }
  },
  "nbformat": 4,
  "nbformat_minor": 5
}